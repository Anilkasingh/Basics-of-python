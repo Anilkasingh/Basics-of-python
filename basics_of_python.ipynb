{
  "nbformat": 4,
  "nbformat_minor": 0,
  "metadata": {
    "colab": {
      "provenance": [],
      "authorship_tag": "ABX9TyPEOL9PWc1ibc3IEusJvvjh",
      "include_colab_link": true
    },
    "kernelspec": {
      "name": "python3",
      "display_name": "Python 3"
    },
    "language_info": {
      "name": "python"
    }
  },
  "cells": [
    {
      "cell_type": "markdown",
      "metadata": {
        "id": "view-in-github",
        "colab_type": "text"
      },
      "source": [
        "<a href=\"https://colab.research.google.com/github/Anilkasingh/Basics-of-python/blob/main/basics_of_python.ipynb\" target=\"_parent\"><img src=\"https://colab.research.google.com/assets/colab-badge.svg\" alt=\"Open In Colab\"/></a>"
      ]
    },
    {
      "cell_type": "code",
      "execution_count": 3,
      "metadata": {
        "colab": {
          "base_uri": "https://localhost:8080/"
        },
        "id": "U9GcwZZ330Tz",
        "outputId": "7a55ba8c-4d4b-48f7-a4d4-faf2e8acfab5"
      },
      "outputs": [
        {
          "output_type": "stream",
          "name": "stdout",
          "text": [
            "[61, 62, 63, 64]\n"
          ]
        }
      ],
      "source": [
        "L=[11,12,13,14]\n",
        "newL=[50+i for i in L]\n",
        "print(newL)\n"
      ]
    },
    {
      "cell_type": "code",
      "source": [
        "L=[11,12,13,14]\n",
        "newL=[60+i for i in L]\n",
        "print(newL)"
      ],
      "metadata": {
        "id": "xmRv6O8V5laJ"
      },
      "execution_count": null,
      "outputs": []
    },
    {
      "cell_type": "code",
      "source": [
        "L=[11,12,13,14]\n",
        "L.remove(13)\n",
        "del L[0]\n",
        "print(L)"
      ],
      "metadata": {
        "colab": {
          "base_uri": "https://localhost:8080/"
        },
        "id": "7vm5vbRd5lcy",
        "outputId": "fe8cc8d4-45ce-4a31-f809-7e1bfe5e2af5"
      },
      "execution_count": 12,
      "outputs": [
        {
          "output_type": "stream",
          "name": "stdout",
          "text": [
            "[12, 14]\n"
          ]
        }
      ]
    },
    {
      "cell_type": "code",
      "source": [
        "L=[11,12,13,14]\n",
        "L.sort\n",
        "print(L)"
      ],
      "metadata": {
        "colab": {
          "base_uri": "https://localhost:8080/"
        },
        "id": "Zxjv2khH5lfq",
        "outputId": "a2319e7a-3794-4c03-c0d4-cfc86a6827e4"
      },
      "execution_count": 13,
      "outputs": [
        {
          "output_type": "stream",
          "name": "stdout",
          "text": [
            "[11, 12, 13, 14]\n"
          ]
        }
      ]
    },
    {
      "cell_type": "code",
      "source": [
        "L=[11,12,13,14]\n",
        "# L.sort(reverse=True)\n",
        "L.sort\n",
        "print(L[::-1])\n",
        "\n"
      ],
      "metadata": {
        "colab": {
          "base_uri": "https://localhost:8080/"
        },
        "id": "W2JsZrX95liS",
        "outputId": "29f41915-5cc2-4ba8-f35f-e496c632f440"
      },
      "execution_count": 17,
      "outputs": [
        {
          "output_type": "stream",
          "name": "stdout",
          "text": [
            "[14, 13, 12, 11]\n",
            "[11, 12, 13, 14]\n"
          ]
        }
      ]
    },
    {
      "cell_type": "code",
      "source": [
        "L=[11,12,13,14]\n",
        "\n",
        "index=L.index(13)\n",
        "print(index)\n"
      ],
      "metadata": {
        "colab": {
          "base_uri": "https://localhost:8080/"
        },
        "id": "PuFLg_Zw5llJ",
        "outputId": "96d0b168-f01e-44e8-cb16-fbcbce58c997"
      },
      "execution_count": 18,
      "outputs": [
        {
          "output_type": "stream",
          "name": "stdout",
          "text": [
            "2\n"
          ]
        }
      ]
    },
    {
      "cell_type": "code",
      "source": [
        "L=[11,12,13,14]\n",
        "print(\"no of elements in list is \", len(L) )"
      ],
      "metadata": {
        "colab": {
          "base_uri": "https://localhost:8080/"
        },
        "id": "Z4HvMe5B5lnv",
        "outputId": "33221483-fc8c-4080-c37a-b06392ede55d"
      },
      "execution_count": 21,
      "outputs": [
        {
          "output_type": "stream",
          "name": "stdout",
          "text": [
            "no of elements in list is  4\n"
          ]
        }
      ]
    },
    {
      "cell_type": "code",
      "source": [
        "L=[11,12,13,14]\n",
        "\n",
        "\n",
        "print(sum(L))"
      ],
      "metadata": {
        "colab": {
          "base_uri": "https://localhost:8080/"
        },
        "id": "VOgdlO1P5lqW",
        "outputId": "e39152d3-4745-431c-eebe-b7d0529189c6"
      },
      "execution_count": 22,
      "outputs": [
        {
          "output_type": "stream",
          "name": "stdout",
          "text": [
            "50\n"
          ]
        }
      ]
    },
    {
      "cell_type": "code",
      "source": [
        "L=[11,12,13,14]\n",
        "newl=[i for i in L\n",
        "         if(i%2!=0) ]\n",
        "print(sum(newl))"
      ],
      "metadata": {
        "colab": {
          "base_uri": "https://localhost:8080/"
        },
        "id": "qhenXGKT_slW",
        "outputId": "b4becce4-f646-4fc6-cc98-48d56007ad19"
      },
      "execution_count": 25,
      "outputs": [
        {
          "output_type": "stream",
          "name": "stdout",
          "text": [
            "24\n"
          ]
        }
      ]
    },
    {
      "cell_type": "code",
      "source": [
        "L=[11,12,13,14]\n",
        "newl=[i for i in L\n",
        "         if(i%2==0) ]\n",
        "print(sum(newl))"
      ],
      "metadata": {
        "colab": {
          "base_uri": "https://localhost:8080/"
        },
        "id": "5irVcZwl_sn1",
        "outputId": "30362685-fd66-44e7-81af-d580e40c75b3"
      },
      "execution_count": 3,
      "outputs": [
        {
          "output_type": "stream",
          "name": "stdout",
          "text": [
            "26\n"
          ]
        }
      ]
    },
    {
      "cell_type": "code",
      "source": [
        "L=[11,12,13,14]\n",
        "\n",
        "def prime(n):\n",
        "  for i in range(2,n//2+1):\n",
        "    if n%i==0:\n",
        "   \n",
        "      return 0\n",
        "     \n",
        "  return 1\n",
        "\n",
        "def sum1(l):\n",
        "  sumall=0\n",
        "  for i in l:\n",
        "    if prime(i):\n",
        "      sumall=sumall+i\n",
        "  return sumall\n",
        "\n",
        "print(sum1(L))\n"
      ],
      "metadata": {
        "colab": {
          "base_uri": "https://localhost:8080/"
        },
        "id": "HhsdJNln_stB",
        "outputId": "c34c87b7-26af-4c1a-b339-75086d9f1648"
      },
      "execution_count": 32,
      "outputs": [
        {
          "output_type": "stream",
          "name": "stdout",
          "text": [
            "24\n"
          ]
        }
      ]
    },
    {
      "cell_type": "markdown",
      "source": [],
      "metadata": {
        "id": "1KBGyXiNLV4_"
      }
    },
    {
      "cell_type": "code",
      "source": [
        "L=[11,12,13,14]\n",
        "L.clear()\n",
        "print(L)"
      ],
      "metadata": {
        "colab": {
          "base_uri": "https://localhost:8080/"
        },
        "id": "LghmWo0a_svo",
        "outputId": "ad1f2d77-a060-44a5-f832-2d2d3f0c4264"
      },
      "execution_count": 20,
      "outputs": [
        {
          "output_type": "stream",
          "name": "stdout",
          "text": [
            "[]\n"
          ]
        }
      ]
    },
    {
      "cell_type": "code",
      "source": [
        "L=[11,12,13,14]\n",
        "del L\n",
        "print(L)"
      ],
      "metadata": {
        "id": "R63vbtld_syO"
      },
      "execution_count": null,
      "outputs": []
    },
    {
      "cell_type": "code",
      "source": [
        "D= {1:5.6, 2:7.8, 3:6.6, 4:8.7, 5:7.7}\n",
        "D[8]=8.8\n",
        "print(D)\n"
      ],
      "metadata": {
        "colab": {
          "base_uri": "https://localhost:8080/"
        },
        "id": "oqS219MC_s00",
        "outputId": "19ee1cff-0187-4619-9529-d5aa9bdcf032"
      },
      "execution_count": 23,
      "outputs": [
        {
          "output_type": "stream",
          "name": "stdout",
          "text": [
            "{1: 5.6, 2: 7.8, 3: 6.6, 4: 8.7, 5: 7.7, 8: 8.8}\n"
          ]
        }
      ]
    },
    {
      "cell_type": "code",
      "source": [
        "D= {1:5.6, 2:7.8, 3:6.6, 4:8.7, 5:7.7}\n",
        "del D[2]\n",
        "print(D)"
      ],
      "metadata": {
        "colab": {
          "base_uri": "https://localhost:8080/"
        },
        "id": "QXOfSqhK_s3c",
        "outputId": "bed7fa74-8410-42f1-c277-54847f58b5b1"
      },
      "execution_count": 24,
      "outputs": [
        {
          "output_type": "stream",
          "name": "stdout",
          "text": [
            "{1: 5.6, 3: 6.6, 4: 8.7, 5: 7.7}\n"
          ]
        }
      ]
    },
    {
      "cell_type": "code",
      "source": [
        "D= {1:5.6, 2:7.8, 3:6.6, 4:8.7, 5:7.7}\n",
        "if 6 in D:\n",
        "  print(\"present\")\n",
        "else :\n",
        "  print(\"not present\")\n"
      ],
      "metadata": {
        "colab": {
          "base_uri": "https://localhost:8080/"
        },
        "id": "kBq4BxwT_s6S",
        "outputId": "10be2469-5258-43a3-dfa6-8c423ae888a6"
      },
      "execution_count": 26,
      "outputs": [
        {
          "output_type": "stream",
          "name": "stdout",
          "text": [
            "not present\n"
          ]
        }
      ]
    },
    {
      "cell_type": "code",
      "source": [
        "D= {1:5.6, 2:7.8, 3:6.6, 4:8.7, 5:7.7}\n",
        "print(len(D))"
      ],
      "metadata": {
        "colab": {
          "base_uri": "https://localhost:8080/"
        },
        "id": "p0dDWv8SNi1Z",
        "outputId": "baeb3116-265a-4fcf-bdea-8494836063c7"
      },
      "execution_count": 27,
      "outputs": [
        {
          "output_type": "stream",
          "name": "stdout",
          "text": [
            "5\n"
          ]
        }
      ]
    },
    {
      "cell_type": "code",
      "source": [
        "D= {1:5.6, 2:7.8, 3:6.6, 4:8.7, 5:7.7}\n",
        "s=sum(D.values())\n",
        "print(s)"
      ],
      "metadata": {
        "colab": {
          "base_uri": "https://localhost:8080/"
        },
        "id": "jcXKh6blTqqJ",
        "outputId": "4e5087b0-b693-45fc-9534-bd35713a7311"
      },
      "execution_count": 47,
      "outputs": [
        {
          "output_type": "stream",
          "name": "stdout",
          "text": [
            "36.4\n"
          ]
        }
      ]
    },
    {
      "cell_type": "code",
      "source": [
        "D= {1:5.6, 2:7.8, 3:6.6, 4:8.7, 5:7.7}\n",
        "D[3]=7.1\n",
        "print(D)"
      ],
      "metadata": {
        "colab": {
          "base_uri": "https://localhost:8080/"
        },
        "id": "G-21SDjJNjD-",
        "outputId": "de1060f0-97d4-48f6-da22-ee893095a4a0"
      },
      "execution_count": 37,
      "outputs": [
        {
          "output_type": "stream",
          "name": "stdout",
          "text": [
            "{1: 5.6, 2: 7.8, 3: 7.1, 4: 8.7, 5: 7.7}\n"
          ]
        }
      ]
    },
    {
      "cell_type": "code",
      "source": [
        "D= {1:5.6, 2:7.8, 3:6.6, 4:8.7, 5:7.7}\n",
        "D.clear()\n",
        "print(D)"
      ],
      "metadata": {
        "colab": {
          "base_uri": "https://localhost:8080/"
        },
        "id": "Txt5nZ3lNjGm",
        "outputId": "210df81e-9131-4eb3-b628-ba545270a725"
      },
      "execution_count": 38,
      "outputs": [
        {
          "output_type": "stream",
          "name": "stdout",
          "text": [
            "{}\n"
          ]
        }
      ]
    },
    {
      "cell_type": "code",
      "source": [
        "S1= set([10, 20, 30, 40, 50, 60])\n",
        "newset={i+55 for i in S1}\n",
        "print(newset)"
      ],
      "metadata": {
        "colab": {
          "base_uri": "https://localhost:8080/"
        },
        "id": "iRN2VUlwNjJc",
        "outputId": "2e382994-8207-40d3-d60c-0cc0b9fa5748"
      },
      "execution_count": 42,
      "outputs": [
        {
          "output_type": "stream",
          "name": "stdout",
          "text": [
            "{65, 105, 75, 115, 85, 95}\n"
          ]
        }
      ]
    },
    {
      "cell_type": "code",
      "source": [
        "S1= set([10, 20, 30, 40, 50, 60])\n",
        "newset={i+66 for i in S1}\n",
        "print(newset)"
      ],
      "metadata": {
        "colab": {
          "base_uri": "https://localhost:8080/"
        },
        "id": "LrJJYZlWNjLx",
        "outputId": "49bea5c7-b9e4-4a12-a546-894d28842078"
      },
      "execution_count": 43,
      "outputs": [
        {
          "output_type": "stream",
          "name": "stdout",
          "text": [
            "{96, 106, 76, 116, 86, 126}\n"
          ]
        }
      ]
    },
    {
      "cell_type": "code",
      "source": [
        "S1= set([10, 20, 30, 40, 50, 60])\n",
        "if 40 in S1:\n",
        " print(\"present\")\n",
        "else:\n",
        "  print(\"not present\")\n",
        "  "
      ],
      "metadata": {
        "colab": {
          "base_uri": "https://localhost:8080/"
        },
        "id": "eO1Q-7GHSCUa",
        "outputId": "f2f72848-3ba1-4f9f-bddf-1683b9938251"
      },
      "execution_count": 44,
      "outputs": [
        {
          "output_type": "stream",
          "name": "stdout",
          "text": [
            "present\n"
          ]
        }
      ]
    },
    {
      "cell_type": "code",
      "source": [
        "S1= set([10, 20, 30, 40, 50, 60])\n",
        "S2= set([40, 50, 60, 70, 80, 90])\n",
        "\n",
        "print(S2.union(S1))"
      ],
      "metadata": {
        "colab": {
          "base_uri": "https://localhost:8080/"
        },
        "id": "9bGld_dCSCXc",
        "outputId": "bb77fe68-111b-4bfe-8157-9cf0304c27f7"
      },
      "execution_count": 54,
      "outputs": [
        {
          "output_type": "stream",
          "name": "stdout",
          "text": [
            "{70, 40, 10, 80, 50, 20, 90, 60, 30}\n"
          ]
        }
      ]
    },
    {
      "cell_type": "code",
      "source": [
        "S1= set([10, 20, 30, 40, 50, 60])\n",
        "S2= set([40, 50, 60, 70, 80, 90])\n",
        "\n",
        "print(S1.intersection(S2))"
      ],
      "metadata": {
        "colab": {
          "base_uri": "https://localhost:8080/"
        },
        "id": "JhpLylZvSCa2",
        "outputId": "de36e8bd-1874-490f-858d-a8a01e10b97e"
      },
      "execution_count": 53,
      "outputs": [
        {
          "output_type": "stream",
          "name": "stdout",
          "text": [
            "{40, 50, 60}\n"
          ]
        }
      ]
    },
    {
      "cell_type": "code",
      "source": [
        "S1= set([10, 20, 30, 40, 50, 60])\n",
        "S2= set([40, 50, 60, 70, 80, 90])\n",
        "\n",
        "print(S1-S2)"
      ],
      "metadata": {
        "colab": {
          "base_uri": "https://localhost:8080/"
        },
        "id": "_6wX83V7SCd_",
        "outputId": "d7893acd-4cc3-4e95-b716-fd3fd5f04528"
      },
      "execution_count": 55,
      "outputs": [
        {
          "output_type": "stream",
          "name": "stdout",
          "text": [
            "{10, 20, 30}\n"
          ]
        }
      ]
    },
    {
      "cell_type": "code",
      "source": [
        "import random as r\n",
        "import string as s\n",
        "len=r.randint(6,8)\n",
        "letters=r.sample(s.ascii_letters,len)\n",
        "print(letters)\n",
        "string=\"\".join(letters)\n",
        "print(string)"
      ],
      "metadata": {
        "colab": {
          "base_uri": "https://localhost:8080/"
        },
        "id": "56qN_4HhSCh3",
        "outputId": "9c8ec138-1c91-48e3-9c82-1efa1205b2ee"
      },
      "execution_count": 60,
      "outputs": [
        {
          "output_type": "stream",
          "name": "stdout",
          "text": [
            "['C', 'I', 'm', 'S', 'Y', 'Z', 'H', 'Q']\n",
            "CImSYZHQ\n"
          ]
        }
      ]
    },
    {
      "cell_type": "code",
      "source": [
        "for i in range(600,800):\n",
        "  prime=1\n",
        "  for n in range(2,i//2+1):\n",
        "   \n",
        "    if i%n==0:\n",
        "      prime=0\n",
        "    \n",
        "      break\n",
        "  if prime:\n",
        "    print(i)\n",
        "\n",
        "   \n",
        "    \n"
      ],
      "metadata": {
        "colab": {
          "base_uri": "https://localhost:8080/"
        },
        "id": "rV5TZG9fd--U",
        "outputId": "69846df3-d390-49d3-f971-0ede1ccac13f"
      },
      "execution_count": 9,
      "outputs": [
        {
          "output_type": "stream",
          "name": "stdout",
          "text": [
            "601\n",
            "607\n",
            "613\n",
            "617\n",
            "619\n",
            "631\n",
            "641\n",
            "643\n",
            "647\n",
            "653\n",
            "659\n",
            "661\n",
            "673\n",
            "677\n",
            "683\n",
            "691\n",
            "701\n",
            "709\n",
            "719\n",
            "727\n",
            "733\n",
            "739\n",
            "743\n",
            "751\n",
            "757\n",
            "761\n",
            "769\n",
            "773\n",
            "787\n",
            "797\n"
          ]
        }
      ]
    },
    {
      "cell_type": "code",
      "source": [
        "for i in range(100,1000):\n",
        "  a=0\n",
        "  b=0\n",
        "  if i%7==0:\n",
        "    a=1\n",
        "  if i%9==0:\n",
        "    b=1\n",
        "  if a==1 and b==1:\n",
        "    print(i)"
      ],
      "metadata": {
        "colab": {
          "base_uri": "https://localhost:8080/"
        },
        "id": "G37WlCZxhPCm",
        "outputId": "85e22135-702e-46c2-de7f-c7add52a9dc4"
      },
      "execution_count": 13,
      "outputs": [
        {
          "output_type": "stream",
          "name": "stdout",
          "text": [
            "126\n",
            "189\n",
            "252\n",
            "315\n",
            "378\n",
            "441\n",
            "504\n",
            "567\n",
            "630\n",
            "693\n",
            "756\n",
            "819\n",
            "882\n",
            "945\n"
          ]
        }
      ]
    },
    {
      "cell_type": "code",
      "source": [
        "import random as r\n",
        "A=r.sample(range(10,30),10)\n",
        "B=r.sample(range(10,30),10)\n",
        "print(A)\n",
        "print(B)\n"
      ],
      "metadata": {
        "colab": {
          "base_uri": "https://localhost:8080/"
        },
        "id": "QHRC5h-DkTcV",
        "outputId": "cd3b1d3d-b56e-4814-f560-bb7350260288"
      },
      "execution_count": 16,
      "outputs": [
        {
          "output_type": "stream",
          "name": "stdout",
          "text": [
            "[29, 20, 23, 11, 27, 12, 25, 17, 15, 16]\n",
            "[21, 15, 16, 26, 14, 24, 23, 13, 29, 18]\n"
          ]
        }
      ]
    },
    {
      "cell_type": "code",
      "source": [
        "import random as r\n",
        "A=r.sample(range(10,30),10)\n",
        "B=r.sample(range(10,30),10)\n",
        "print(A)\n",
        "print(B)\n",
        "for i in A  :\n",
        "\n",
        "  if i in B:\n",
        "    print(i)\n"
      ],
      "metadata": {
        "colab": {
          "base_uri": "https://localhost:8080/"
        },
        "id": "GiiAwSDLxjnz",
        "outputId": "9add38ed-4f31-4974-ac6a-bc6e3d2b9633"
      },
      "execution_count": 20,
      "outputs": [
        {
          "output_type": "stream",
          "name": "stdout",
          "text": [
            "[19, 22, 12, 11, 27, 23, 18, 10, 13, 17]\n",
            "[22, 19, 26, 23, 20, 18, 11, 10, 29, 12]\n",
            "19\n",
            "22\n",
            "12\n",
            "11\n",
            "23\n",
            "18\n",
            "10\n"
          ]
        }
      ]
    },
    {
      "cell_type": "code",
      "source": [
        "import random as r\n",
        "A=r.sample(range(10,30),10)\n",
        "B=r.sample(range(10,30),10)\n",
        "C=A\n",
        "D=B\n",
        "print(A)\n",
        "print(B)\n",
        "for i in A  :\n",
        "\n",
        "  if i in B:\n",
        "    print(i)\n",
        "    C.remove(i)\n",
        "    D.remove(i)\n",
        "print(\"in C\")\n",
        "for i in range(0,len(C)):\n",
        "  print(C[i])\n",
        "print(\"in D\")\n",
        "for i in range(0,len(D)):\n",
        "\n",
        "  print(D[i]) \n",
        "\n"
      ],
      "metadata": {
        "colab": {
          "base_uri": "https://localhost:8080/"
        },
        "id": "O9BsgA18xjq5",
        "outputId": "306c2dd0-bd08-49aa-b49f-0a070e0e6482"
      },
      "execution_count": 28,
      "outputs": [
        {
          "output_type": "stream",
          "name": "stdout",
          "text": [
            "[18, 27, 26, 12, 23, 29, 20, 11, 25, 17]\n",
            "[23, 27, 24, 21, 20, 19, 29, 18, 16, 26]\n",
            "18\n",
            "26\n",
            "23\n",
            "20\n",
            "in C\n",
            "27\n",
            "12\n",
            "29\n",
            "11\n",
            "25\n",
            "17\n",
            "in D\n",
            "27\n",
            "24\n",
            "21\n",
            "19\n",
            "29\n",
            "16\n"
          ]
        }
      ]
    },
    {
      "cell_type": "code",
      "source": [
        "import random as r\n",
        "A=r.sample(range(10,30),10)\n",
        "B=r.sample(range(10,30),10)\n",
        "print(A,\"min of A is\",min(A))\n",
        "print(B,\"min of B is \",min(B))\n"
      ],
      "metadata": {
        "colab": {
          "base_uri": "https://localhost:8080/"
        },
        "id": "cI_rFYOYxjty",
        "outputId": "1afff30e-fc92-4011-c968-f6fe5b5e3115"
      },
      "execution_count": 30,
      "outputs": [
        {
          "output_type": "stream",
          "name": "stdout",
          "text": [
            "[19, 11, 10, 22, 24, 13, 12, 17, 16, 29] min of A is 10\n",
            "[23, 18, 11, 21, 22, 25, 29, 16, 14, 15] min of B is  11\n"
          ]
        }
      ]
    },
    {
      "cell_type": "code",
      "source": [
        "import random as r\n",
        "A=r.sample(range(10,30),10)\n",
        "B=r.sample(range(10,30),10)\n",
        "print(A,\"max of A is\",max(A))\n",
        "print(B,\"max of B is \",max(B))\n"
      ],
      "metadata": {
        "colab": {
          "base_uri": "https://localhost:8080/"
        },
        "id": "1q4dAeBm1_IH",
        "outputId": "fd50ba35-eb25-4444-dcb8-1c8f6b276607"
      },
      "execution_count": 31,
      "outputs": [
        {
          "output_type": "stream",
          "name": "stdout",
          "text": [
            "[29, 11, 27, 26, 22, 16, 14, 25, 13, 18] max of A is 29\n",
            "[19, 21, 29, 26, 24, 22, 17, 15, 27, 16] max of B is  29\n"
          ]
        }
      ]
    },
    {
      "cell_type": "code",
      "source": [
        "import random as r\n",
        "A=r.sample(range(10,30),10)\n",
        "B=r.sample(range(10,30),10)\n",
        "print(A)\n",
        "print(B)\n",
        "c=sum(A)+sum(B)\n",
        "print(c)\n",
        "\n"
      ],
      "metadata": {
        "colab": {
          "base_uri": "https://localhost:8080/"
        },
        "id": "V_YTeDbB1_Kr",
        "outputId": "ab478a17-c2e6-4f07-c37e-8fc3fcbfc285"
      },
      "execution_count": 34,
      "outputs": [
        {
          "output_type": "stream",
          "name": "stdout",
          "text": [
            "[13, 23, 29, 16, 11, 25, 17, 22, 26, 27]\n",
            "[18, 10, 21, 24, 23, 13, 11, 20, 14, 26]\n",
            "389\n"
          ]
        }
      ]
    },
    {
      "cell_type": "code",
      "source": [
        "import random as r\n",
        "A=r.sample(range(100,900),100)\n",
        "print(A)\n",
        "for i in range(100,900):\n",
        "  if i%2==0:\n",
        "    print(i)\n",
        "\n"
      ],
      "metadata": {
        "id": "m3lSrtuQ1_NT"
      },
      "execution_count": null,
      "outputs": []
    },
    {
      "cell_type": "code",
      "source": [
        "import random as r\n",
        "A=r.sample(range(100,900),100)\n",
        "print(A)\n",
        "for i in range(100,900):\n",
        "  if i%2!=0:\n",
        "    print(i)"
      ],
      "metadata": {
        "id": "uZKiunZg1_PX"
      },
      "execution_count": null,
      "outputs": []
    },
    {
      "cell_type": "code",
      "source": [
        "import random as r\n",
        "A=r.sample(range(100,900),100)\n",
        "print(A)\n",
        "for i in range(100,900):\n",
        "  prime=1 \n",
        "  for n in range(2,i//2+1):\n",
        "    if i%n==0:\n",
        "      prime=0\n",
        "      break\n",
        "  if prime==1:\n",
        "    print(i)"
      ],
      "metadata": {
        "id": "N5XtcCTl3dP1"
      },
      "execution_count": null,
      "outputs": []
    },
    {
      "cell_type": "code",
      "source": [
        "D={1:\"One\",2:\"Two\",3:\"Three\",4:\"Four\", 5:\"Five\"}\n",
        "fp=open(\"dic.txt\",\"w\") \n",
        "for key, value in D.items():\n",
        "  fp.write(str(key)+\",\"+value+\"\\n\")\n",
        " \n",
        "fp.close()"
      ],
      "metadata": {
        "id": "zZnOjW033df9"
      },
      "execution_count": 62,
      "outputs": []
    },
    {
      "cell_type": "code",
      "source": [
        "L=[\"One\",\"Two\",\"Three\",\"Four\",\"Five\"]\n",
        "with open('count.txt','w') as fp:\n",
        "  for i in L:\n",
        "  # no=0\n",
        "  # for n in i:\n",
        "  #   no=no+1\n",
        "    print(i,\"->\",len(i))\n",
        "    fp.write(i+\",\"+str(len(i))+\"\\n\")\n",
        "\n",
        "  \n",
        "\n",
        "\n",
        "\n"
      ],
      "metadata": {
        "colab": {
          "base_uri": "https://localhost:8080/"
        },
        "id": "fZFNtElP3diT",
        "outputId": "f912fe27-d1b2-4665-8b1d-7dceee651040"
      },
      "execution_count": 79,
      "outputs": [
        {
          "output_type": "stream",
          "name": "stdout",
          "text": [
            "One -> 3\n",
            "Two -> 3\n",
            "Three -> 5\n",
            "Four -> 4\n",
            "Five -> 4\n"
          ]
        }
      ]
    },
    {
      "cell_type": "code",
      "source": [
        "import random as r\n",
        "import string as s\n",
        "with open('string.txt','w') as fp:\n",
        "  for n in range(0,100):\n",
        "    n=r.randint(10,15)\n",
        "    string=\"\".join(r.sample(s.ascii_letters,n))\n",
        "    fp.write(string+\"\\n\")"
      ],
      "metadata": {
        "id": "O8HDjxwn3dka"
      },
      "execution_count": 81,
      "outputs": []
    },
    {
      "cell_type": "code",
      "source": [],
      "metadata": {
        "id": "w04Qoa6U3dmw"
      },
      "execution_count": null,
      "outputs": []
    }
  ]
}